{
 "cells": [
  {
   "cell_type": "code",
   "execution_count": 1,
   "id": "153661e3",
   "metadata": {},
   "outputs": [],
   "source": [
    "L1 =['grapes','apple']\n"
   ]
  },
  {
   "cell_type": "code",
   "execution_count": 2,
   "id": "f5370612",
   "metadata": {},
   "outputs": [],
   "source": [
    "L1.append('mango')"
   ]
  },
  {
   "cell_type": "code",
   "execution_count": 3,
   "id": "b65d8195",
   "metadata": {},
   "outputs": [
    {
     "name": "stdout",
     "output_type": "stream",
     "text": [
      "['grapes', 'apple', 'mango']\n"
     ]
    }
   ],
   "source": [
    "print(L1)"
   ]
  },
  {
   "cell_type": "code",
   "execution_count": 4,
   "id": "a4393f2d",
   "metadata": {},
   "outputs": [],
   "source": [
    "fruits=[]"
   ]
  },
  {
   "cell_type": "code",
   "execution_count": 5,
   "id": "3e1da98c",
   "metadata": {},
   "outputs": [],
   "source": [
    "fruits.append(\"mango\")\n",
    "fruits.append(\"lemon\")"
   ]
  },
  {
   "cell_type": "code",
   "execution_count": 6,
   "id": "f08a0d64",
   "metadata": {},
   "outputs": [
    {
     "name": "stdout",
     "output_type": "stream",
     "text": [
      "['mango', 'lemon']\n"
     ]
    }
   ],
   "source": [
    "print(fruits)"
   ]
  },
  {
   "cell_type": "code",
   "execution_count": 7,
   "id": "af1f07f0",
   "metadata": {},
   "outputs": [],
   "source": [
    "fruits1=['mango','apple']\n",
    "# fruits1.insert(1,'orange')"
   ]
  },
  {
   "cell_type": "code",
   "execution_count": 8,
   "id": "8b7ef32b",
   "metadata": {},
   "outputs": [],
   "source": [
    "fruits1.insert(1,'orange')"
   ]
  },
  {
   "cell_type": "code",
   "execution_count": 9,
   "id": "f381e61f",
   "metadata": {},
   "outputs": [
    {
     "name": "stdout",
     "output_type": "stream",
     "text": [
      "['mango', 'orange', 'apple']\n"
     ]
    }
   ],
   "source": [
    "print(fruits1)"
   ]
  },
  {
   "cell_type": "code",
   "execution_count": 10,
   "id": "3b500810",
   "metadata": {},
   "outputs": [],
   "source": [
    "fruits2=['grapes','guava']"
   ]
  },
  {
   "cell_type": "code",
   "execution_count": 12,
   "id": "25d87ec2",
   "metadata": {},
   "outputs": [
    {
     "name": "stdout",
     "output_type": "stream",
     "text": [
      "['mango', 'orange', 'apple', 'grapes', 'guava']\n"
     ]
    }
   ],
   "source": [
    "fruits3=fruits1+fruits2\n",
    "print(fruits3)"
   ]
  },
  {
   "cell_type": "code",
   "execution_count": 13,
   "id": "86181818",
   "metadata": {},
   "outputs": [],
   "source": [
    "fruits1.extend(fruits2)"
   ]
  },
  {
   "cell_type": "code",
   "execution_count": 14,
   "id": "9870136e",
   "metadata": {},
   "outputs": [
    {
     "name": "stdout",
     "output_type": "stream",
     "text": [
      "['mango', 'orange', 'apple', 'grapes', 'guava']\n"
     ]
    }
   ],
   "source": [
    "print(fruits1)"
   ]
  },
  {
   "cell_type": "code",
   "execution_count": 15,
   "id": "ac17b6c7",
   "metadata": {},
   "outputs": [
    {
     "name": "stdout",
     "output_type": "stream",
     "text": [
      "['mango', 'orange', 'apple', 'grapes', 'guava', ['grapes', 'guava']]\n"
     ]
    }
   ],
   "source": [
    "fruits1.append(fruits2)\n",
    "print(fruits1)"
   ]
  },
  {
   "cell_type": "code",
   "execution_count": 16,
   "id": "3a392fe5",
   "metadata": {},
   "outputs": [],
   "source": [
    "###DELETE DATA FROM LIST--------------------------------------\n",
    "#pop"
   ]
  },
  {
   "cell_type": "code",
   "execution_count": 17,
   "id": "b7d255ad",
   "metadata": {},
   "outputs": [
    {
     "data": {
      "text/plain": [
       "'grapes'"
      ]
     },
     "execution_count": 17,
     "metadata": {},
     "output_type": "execute_result"
    }
   ],
   "source": [
    "fruits=['apple','grapes','kivi','orange','kivi','banana']\n",
    "fruits.pop(1)"
   ]
  },
  {
   "cell_type": "code",
   "execution_count": 18,
   "id": "3065d898",
   "metadata": {},
   "outputs": [],
   "source": [
    "del fruits[1]"
   ]
  },
  {
   "cell_type": "code",
   "execution_count": 19,
   "id": "04505a2d",
   "metadata": {},
   "outputs": [
    {
     "name": "stdout",
     "output_type": "stream",
     "text": [
      "['apple', 'orange', 'banana']\n"
     ]
    }
   ],
   "source": [
    "fruits.remove('kivi')\n",
    "print(fruits)"
   ]
  },
  {
   "cell_type": "code",
   "execution_count": 20,
   "id": "72a46485",
   "metadata": {},
   "outputs": [],
   "source": [
    "###IN KEYWORDS IN LIST-------------------------------------------"
   ]
  },
  {
   "cell_type": "code",
   "execution_count": 21,
   "id": "181b296e",
   "metadata": {},
   "outputs": [
    {
     "name": "stdout",
     "output_type": "stream",
     "text": [
      "apple is present\n"
     ]
    }
   ],
   "source": [
    "if 'apple' in fruits:\n",
    "     print(\"apple is present\")\n",
    "else:\n",
    "     print(\"apple is not present\")"
   ]
  },
  {
   "cell_type": "code",
   "execution_count": 22,
   "id": "811790f8",
   "metadata": {},
   "outputs": [
    {
     "name": "stdout",
     "output_type": "stream",
     "text": [
      "1\n"
     ]
    }
   ],
   "source": [
    "#count\n",
    "print(fruits.count('apple'))"
   ]
  },
  {
   "cell_type": "code",
   "execution_count": 23,
   "id": "a54063b4",
   "metadata": {},
   "outputs": [],
   "source": [
    "#sort method\n",
    "fruits.sort()"
   ]
  },
  {
   "cell_type": "code",
   "execution_count": 24,
   "id": "0d8796cb",
   "metadata": {},
   "outputs": [
    {
     "data": {
      "text/plain": [
       "['apple', 'banana', 'orange']"
      ]
     },
     "execution_count": 24,
     "metadata": {},
     "output_type": "execute_result"
    }
   ],
   "source": [
    "fruits\n"
   ]
  },
  {
   "cell_type": "code",
   "execution_count": 27,
   "id": "9002f4a4",
   "metadata": {},
   "outputs": [
    {
     "name": "stdout",
     "output_type": "stream",
     "text": [
      "[0, 2, 2, 5, 5, 8]\n"
     ]
    }
   ],
   "source": [
    "numbers=[2,5,8,5,2,0]\n",
    "numbers.sort()\n",
    "print(numbers)"
   ]
  },
  {
   "cell_type": "code",
   "execution_count": 28,
   "id": "063ffe6e",
   "metadata": {},
   "outputs": [
    {
     "name": "stdout",
     "output_type": "stream",
     "text": [
      "[0, 2, 2, 5, 5, 8]\n"
     ]
    }
   ],
   "source": [
    "num_copy = numbers.copy()\n",
    "print(num_copy)"
   ]
  },
  {
   "cell_type": "code",
   "execution_count": 29,
   "id": "781d0ce3",
   "metadata": {},
   "outputs": [
    {
     "name": "stdout",
     "output_type": "stream",
     "text": [
      "[]\n"
     ]
    }
   ],
   "source": [
    "numbers.clear()\n",
    "print(numbers)"
   ]
  },
  {
   "cell_type": "code",
   "execution_count": null,
   "id": "2201ae39",
   "metadata": {},
   "outputs": [],
   "source": []
  },
  {
   "cell_type": "code",
   "execution_count": 30,
   "id": "73dc7905",
   "metadata": {},
   "outputs": [],
   "source": [
    "###JOIN AND SPLIT METHOD------------------------------------"
   ]
  },
  {
   "cell_type": "code",
   "execution_count": 35,
   "id": "1cc5ae3d",
   "metadata": {},
   "outputs": [
    {
     "name": "stdout",
     "output_type": "stream",
     "text": [
      "enter your name and agenusrat,patel\n",
      "nusrat\n",
      "patel\n"
     ]
    }
   ],
   "source": [
    "name, age =input(\"enter your name and age\").split(',')\n",
    "print(name)\n",
    "print(age)"
   ]
  },
  {
   "cell_type": "code",
   "execution_count": 36,
   "id": "d7e11c1f",
   "metadata": {},
   "outputs": [
    {
     "name": "stdout",
     "output_type": "stream",
     "text": [
      "harshit*24\n"
     ]
    }
   ],
   "source": [
    "user_info=['harshit','24']\n",
    "print('*'.join(user_info))"
   ]
  },
  {
   "cell_type": "code",
   "execution_count": null,
   "id": "c8522c20",
   "metadata": {},
   "outputs": [],
   "source": []
  },
  {
   "cell_type": "code",
   "execution_count": null,
   "id": "60eab7da",
   "metadata": {},
   "outputs": [],
   "source": []
  },
  {
   "cell_type": "code",
   "execution_count": 37,
   "id": "936c0f27",
   "metadata": {},
   "outputs": [
    {
     "name": "stdout",
     "output_type": "stream",
     "text": [
      "[1, 2, 3, 4, 5, 6, 7, 8, 9, 10]\n"
     ]
    }
   ],
   "source": [
    "#generate lists with range function\n",
    "number=list(range(1,11))\n",
    "print(number)"
   ]
  },
  {
   "cell_type": "code",
   "execution_count": null,
   "id": "ae68f0df",
   "metadata": {},
   "outputs": [],
   "source": []
  }
 ],
 "metadata": {
  "kernelspec": {
   "display_name": "Python 3 (ipykernel)",
   "language": "python",
   "name": "python3"
  },
  "language_info": {
   "codemirror_mode": {
    "name": "ipython",
    "version": 3
   },
   "file_extension": ".py",
   "mimetype": "text/x-python",
   "name": "python",
   "nbconvert_exporter": "python",
   "pygments_lexer": "ipython3",
   "version": "3.11.5"
  }
 },
 "nbformat": 4,
 "nbformat_minor": 5
}
